import pandas as pd
import numpy as np

movies = pd.read_csv('https://raw.githubusercontent.com/gabriel-klein/movie_review/main/IMDB_movie_reviews_details.csv')

movies.describe()

# Coisas interessantes
#  O menor filme no dataset possui 45 minutos
#  O maior filme no dataset possui 321 minutos
#  A maior nota é de 9.3
#  A menor nota é de 7.6
#  A média de duração dos filmes é de 123 minutos
#  A média das notas é de 7.9

# movies[movies['runtime'] == 45]
# O nome do menor filme é Sherlock Jr. de 1924

# movies[movies['runtime'] == 321]
# O nome do maior filme é Gangs of Wasseypur de 2012

# movies[movies['rating'] == 9.3]
# O nome do filme com a maior nota é The Shawshank Redemption de 1994

# movies[movies['rating'] == 7.6]
# Existem diversos filmes empatados com a menor nota
# Destaque para Once Upon a Time... In Hollywood porque eu gostei desse filme e não acho que mereça estar nessa posição

# movies['genre'].mode()
# Drama é o gênero com maior número de ocorrência

# movies['year'].mode()
# 2004 é o ano com maior número de ocorrência
